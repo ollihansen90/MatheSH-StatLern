{
  "nbformat": 4,
  "nbformat_minor": 0,
  "metadata": {
    "colab": {
      "provenance": [],
      "authorship_tag": "ABX9TyMhdb1ApoOb4fO8cNczNEo2",
      "include_colab_link": true
    },
    "kernelspec": {
      "name": "python3",
      "display_name": "Python 3"
    },
    "language_info": {
      "name": "python"
    },
    "widgets": {
      "application/vnd.jupyter.widget-state+json": {
        "fb7f5a52baba4a6f9eedc5a3a3dce328": {
          "model_module": "@jupyter-widgets/controls",
          "model_name": "HBoxModel",
          "model_module_version": "1.5.0",
          "state": {
            "_dom_classes": [],
            "_model_module": "@jupyter-widgets/controls",
            "_model_module_version": "1.5.0",
            "_model_name": "HBoxModel",
            "_view_count": null,
            "_view_module": "@jupyter-widgets/controls",
            "_view_module_version": "1.5.0",
            "_view_name": "HBoxView",
            "box_style": "",
            "children": [
              "IPY_MODEL_37f523667c4a41e19136b94a7c9c7e91",
              "IPY_MODEL_21037adeb62843c08c20762ebd4db790",
              "IPY_MODEL_19dbc7b2ef604fc3b5d7f43d2e54d1f1"
            ],
            "layout": "IPY_MODEL_531e471c9d1a4d44806a1d6b552175c8"
          }
        },
        "37f523667c4a41e19136b94a7c9c7e91": {
          "model_module": "@jupyter-widgets/controls",
          "model_name": "HTMLModel",
          "model_module_version": "1.5.0",
          "state": {
            "_dom_classes": [],
            "_model_module": "@jupyter-widgets/controls",
            "_model_module_version": "1.5.0",
            "_model_name": "HTMLModel",
            "_view_count": null,
            "_view_module": "@jupyter-widgets/controls",
            "_view_module_version": "1.5.0",
            "_view_name": "HTMLView",
            "description": "",
            "description_tooltip": null,
            "layout": "IPY_MODEL_45800e44ddbc4322968a87a354aedbaf",
            "placeholder": "​",
            "style": "IPY_MODEL_32c245329a744cff8b369ea070ab7fcd",
            "value": "100%"
          }
        },
        "21037adeb62843c08c20762ebd4db790": {
          "model_module": "@jupyter-widgets/controls",
          "model_name": "FloatProgressModel",
          "model_module_version": "1.5.0",
          "state": {
            "_dom_classes": [],
            "_model_module": "@jupyter-widgets/controls",
            "_model_module_version": "1.5.0",
            "_model_name": "FloatProgressModel",
            "_view_count": null,
            "_view_module": "@jupyter-widgets/controls",
            "_view_module_version": "1.5.0",
            "_view_name": "ProgressView",
            "bar_style": "success",
            "description": "",
            "description_tooltip": null,
            "layout": "IPY_MODEL_89a91673495d45708c1b8464495ce84f",
            "max": 6400,
            "min": 0,
            "orientation": "horizontal",
            "style": "IPY_MODEL_b0a989240e8f4859b40a5f35401b3cd3",
            "value": 6400
          }
        },
        "19dbc7b2ef604fc3b5d7f43d2e54d1f1": {
          "model_module": "@jupyter-widgets/controls",
          "model_name": "HTMLModel",
          "model_module_version": "1.5.0",
          "state": {
            "_dom_classes": [],
            "_model_module": "@jupyter-widgets/controls",
            "_model_module_version": "1.5.0",
            "_model_name": "HTMLModel",
            "_view_count": null,
            "_view_module": "@jupyter-widgets/controls",
            "_view_module_version": "1.5.0",
            "_view_name": "HTMLView",
            "description": "",
            "description_tooltip": null,
            "layout": "IPY_MODEL_309f83a083934c05b7f66f28e26b11b0",
            "placeholder": "​",
            "style": "IPY_MODEL_989627708e5f4768af1fe47f232598f6",
            "value": " 6400/6400 [00:00&lt;00:00, 11595.99it/s]"
          }
        },
        "531e471c9d1a4d44806a1d6b552175c8": {
          "model_module": "@jupyter-widgets/base",
          "model_name": "LayoutModel",
          "model_module_version": "1.2.0",
          "state": {
            "_model_module": "@jupyter-widgets/base",
            "_model_module_version": "1.2.0",
            "_model_name": "LayoutModel",
            "_view_count": null,
            "_view_module": "@jupyter-widgets/base",
            "_view_module_version": "1.2.0",
            "_view_name": "LayoutView",
            "align_content": null,
            "align_items": null,
            "align_self": null,
            "border": null,
            "bottom": null,
            "display": null,
            "flex": null,
            "flex_flow": null,
            "grid_area": null,
            "grid_auto_columns": null,
            "grid_auto_flow": null,
            "grid_auto_rows": null,
            "grid_column": null,
            "grid_gap": null,
            "grid_row": null,
            "grid_template_areas": null,
            "grid_template_columns": null,
            "grid_template_rows": null,
            "height": null,
            "justify_content": null,
            "justify_items": null,
            "left": null,
            "margin": null,
            "max_height": null,
            "max_width": null,
            "min_height": null,
            "min_width": null,
            "object_fit": null,
            "object_position": null,
            "order": null,
            "overflow": null,
            "overflow_x": null,
            "overflow_y": null,
            "padding": null,
            "right": null,
            "top": null,
            "visibility": null,
            "width": null
          }
        },
        "45800e44ddbc4322968a87a354aedbaf": {
          "model_module": "@jupyter-widgets/base",
          "model_name": "LayoutModel",
          "model_module_version": "1.2.0",
          "state": {
            "_model_module": "@jupyter-widgets/base",
            "_model_module_version": "1.2.0",
            "_model_name": "LayoutModel",
            "_view_count": null,
            "_view_module": "@jupyter-widgets/base",
            "_view_module_version": "1.2.0",
            "_view_name": "LayoutView",
            "align_content": null,
            "align_items": null,
            "align_self": null,
            "border": null,
            "bottom": null,
            "display": null,
            "flex": null,
            "flex_flow": null,
            "grid_area": null,
            "grid_auto_columns": null,
            "grid_auto_flow": null,
            "grid_auto_rows": null,
            "grid_column": null,
            "grid_gap": null,
            "grid_row": null,
            "grid_template_areas": null,
            "grid_template_columns": null,
            "grid_template_rows": null,
            "height": null,
            "justify_content": null,
            "justify_items": null,
            "left": null,
            "margin": null,
            "max_height": null,
            "max_width": null,
            "min_height": null,
            "min_width": null,
            "object_fit": null,
            "object_position": null,
            "order": null,
            "overflow": null,
            "overflow_x": null,
            "overflow_y": null,
            "padding": null,
            "right": null,
            "top": null,
            "visibility": null,
            "width": null
          }
        },
        "32c245329a744cff8b369ea070ab7fcd": {
          "model_module": "@jupyter-widgets/controls",
          "model_name": "DescriptionStyleModel",
          "model_module_version": "1.5.0",
          "state": {
            "_model_module": "@jupyter-widgets/controls",
            "_model_module_version": "1.5.0",
            "_model_name": "DescriptionStyleModel",
            "_view_count": null,
            "_view_module": "@jupyter-widgets/base",
            "_view_module_version": "1.2.0",
            "_view_name": "StyleView",
            "description_width": ""
          }
        },
        "89a91673495d45708c1b8464495ce84f": {
          "model_module": "@jupyter-widgets/base",
          "model_name": "LayoutModel",
          "model_module_version": "1.2.0",
          "state": {
            "_model_module": "@jupyter-widgets/base",
            "_model_module_version": "1.2.0",
            "_model_name": "LayoutModel",
            "_view_count": null,
            "_view_module": "@jupyter-widgets/base",
            "_view_module_version": "1.2.0",
            "_view_name": "LayoutView",
            "align_content": null,
            "align_items": null,
            "align_self": null,
            "border": null,
            "bottom": null,
            "display": null,
            "flex": null,
            "flex_flow": null,
            "grid_area": null,
            "grid_auto_columns": null,
            "grid_auto_flow": null,
            "grid_auto_rows": null,
            "grid_column": null,
            "grid_gap": null,
            "grid_row": null,
            "grid_template_areas": null,
            "grid_template_columns": null,
            "grid_template_rows": null,
            "height": null,
            "justify_content": null,
            "justify_items": null,
            "left": null,
            "margin": null,
            "max_height": null,
            "max_width": null,
            "min_height": null,
            "min_width": null,
            "object_fit": null,
            "object_position": null,
            "order": null,
            "overflow": null,
            "overflow_x": null,
            "overflow_y": null,
            "padding": null,
            "right": null,
            "top": null,
            "visibility": null,
            "width": null
          }
        },
        "b0a989240e8f4859b40a5f35401b3cd3": {
          "model_module": "@jupyter-widgets/controls",
          "model_name": "ProgressStyleModel",
          "model_module_version": "1.5.0",
          "state": {
            "_model_module": "@jupyter-widgets/controls",
            "_model_module_version": "1.5.0",
            "_model_name": "ProgressStyleModel",
            "_view_count": null,
            "_view_module": "@jupyter-widgets/base",
            "_view_module_version": "1.2.0",
            "_view_name": "StyleView",
            "bar_color": null,
            "description_width": ""
          }
        },
        "309f83a083934c05b7f66f28e26b11b0": {
          "model_module": "@jupyter-widgets/base",
          "model_name": "LayoutModel",
          "model_module_version": "1.2.0",
          "state": {
            "_model_module": "@jupyter-widgets/base",
            "_model_module_version": "1.2.0",
            "_model_name": "LayoutModel",
            "_view_count": null,
            "_view_module": "@jupyter-widgets/base",
            "_view_module_version": "1.2.0",
            "_view_name": "LayoutView",
            "align_content": null,
            "align_items": null,
            "align_self": null,
            "border": null,
            "bottom": null,
            "display": null,
            "flex": null,
            "flex_flow": null,
            "grid_area": null,
            "grid_auto_columns": null,
            "grid_auto_flow": null,
            "grid_auto_rows": null,
            "grid_column": null,
            "grid_gap": null,
            "grid_row": null,
            "grid_template_areas": null,
            "grid_template_columns": null,
            "grid_template_rows": null,
            "height": null,
            "justify_content": null,
            "justify_items": null,
            "left": null,
            "margin": null,
            "max_height": null,
            "max_width": null,
            "min_height": null,
            "min_width": null,
            "object_fit": null,
            "object_position": null,
            "order": null,
            "overflow": null,
            "overflow_x": null,
            "overflow_y": null,
            "padding": null,
            "right": null,
            "top": null,
            "visibility": null,
            "width": null
          }
        },
        "989627708e5f4768af1fe47f232598f6": {
          "model_module": "@jupyter-widgets/controls",
          "model_name": "DescriptionStyleModel",
          "model_module_version": "1.5.0",
          "state": {
            "_model_module": "@jupyter-widgets/controls",
            "_model_module_version": "1.5.0",
            "_model_name": "DescriptionStyleModel",
            "_view_count": null,
            "_view_module": "@jupyter-widgets/base",
            "_view_module_version": "1.2.0",
            "_view_name": "StyleView",
            "description_width": ""
          }
        }
      }
    }
  },
  "cells": [
    {
      "cell_type": "markdown",
      "metadata": {
        "id": "view-in-github",
        "colab_type": "text"
      },
      "source": [
        "<a href=\"https://colab.research.google.com/github/ollihansen90/MatheSH-StatLern/blob/main/Iris_kNN.ipynb\" target=\"_parent\"><img src=\"https://colab.research.google.com/assets/colab-badge.svg\" alt=\"Open In Colab\"/></a>"
      ]
    },
    {
      "cell_type": "code",
      "execution_count": 38,
      "metadata": {
        "colab": {
          "base_uri": "https://localhost:8080/",
          "height": 863
        },
        "id": "saL4KXABzsZ0",
        "outputId": "c292b597-bfa5-4196-f340-9e7e610d1907"
      },
      "outputs": [
        {
          "output_type": "stream",
          "name": "stdout",
          "text": [
            "(150, 4)\n"
          ]
        },
        {
          "output_type": "display_data",
          "data": {
            "text/plain": [
              "<Figure size 640x480 with 1 Axes>"
            ],
            "image/png": "[encoded data removed]"
          },
          "metadata": {}
        },
        {
          "output_type": "display_data",
          "data": {
            "text/plain": [
              "<Figure size 640x480 with 1 Axes>"
            ],
            "image/png": "[encoded data removed]"
          },
          "metadata": {}
        }
      ],
      "source": [
        "import numpy as np\n",
        "import matplotlib.pyplot as plt\n",
        "from sklearn import datasets\n",
        "from tqdm.auto import trange\n",
        "\n",
        "dataset = datasets.load_iris()\n",
        "data = dataset[\"data\"]\n",
        "print(data.shape)\n",
        "labels = dataset[\"target\"]\n",
        "\n",
        "plt.figure()\n",
        "plt.plot(data[labels==0,0], data[labels==0,1], \".\")\n",
        "plt.plot(data[labels==1,0], data[labels==1,1], \".\")\n",
        "plt.plot(data[labels==2,0], data[labels==2,1], \".\")\n",
        "plt.show()\n",
        "plt.figure()\n",
        "plt.plot(data[labels==0,2], data[labels==0,3], \".\")\n",
        "plt.plot(data[labels==1,2], data[labels==1,3], \".\")\n",
        "plt.plot(data[labels==2,2], data[labels==2,3], \".\")\n",
        "plt.show()"
      ]
    },
    {
      "cell_type": "code",
      "source": [
        "def kNN(point, data, labels, k=5):\n",
        "    dists = np.sum((data-point)**2, axis=-1)\n",
        "    neighb = np.argsort(dists)[:k]\n",
        "    neighb_labels = labels[neighb]\n",
        "    n_labels = 3*[0]\n",
        "    for l in neighb_labels:\n",
        "        n_labels[l] += 1\n",
        "    return np.argmax(n_labels)\n",
        "\n",
        "datax_min, datax_max = np.min(data[:,0]), np.max(data[:,0])\n",
        "datay_min, datay_max = np.min(data[:,1]), np.max(data[:,1])\n",
        "\n",
        "n_points = 80\n",
        "xx = np.linspace(datax_min, datax_max, num=n_points)[None,:]*np.ones([n_points,1])\n",
        "yy = np.linspace(datay_min, datay_max, num=n_points)[:,None]*np.ones([1,n_points])\n",
        "\n",
        "testdata = np.reshape(np.stack([xx,yy]), [2,-1]).T\n",
        "testlabel = np.zeros(len(testdata))\n",
        "\n",
        "for i in trange(len(testdata)):\n",
        "    testlabel[i] = kNN(testdata[i], data[:, [0,1]], labels, k=5)\n",
        "\n",
        "plt.figure()\n",
        "plt.plot(testdata[testlabel==0,0], testdata[testlabel==0,1], \".\")\n",
        "plt.plot(testdata[testlabel==1,0], testdata[testlabel==1,1], \".\")\n",
        "plt.plot(testdata[testlabel==2,0], testdata[testlabel==2,1], \".\")\n",
        "plt.show()"
      ],
      "metadata": {
        "colab": {
          "base_uri": "https://localhost:8080/",
          "height": 465,
          "referenced_widgets": [
            "fb7f5a52baba4a6f9eedc5a3a3dce328",
            "37f523667c4a41e19136b94a7c9c7e91",
            "21037adeb62843c08c20762ebd4db790",
            "19dbc7b2ef604fc3b5d7f43d2e54d1f1",
            "531e471c9d1a4d44806a1d6b552175c8",
            "45800e44ddbc4322968a87a354aedbaf",
            "32c245329a744cff8b369ea070ab7fcd",
            "89a91673495d45708c1b8464495ce84f",
            "b0a989240e8f4859b40a5f35401b3cd3",
            "309f83a083934c05b7f66f28e26b11b0",
            "989627708e5f4768af1fe47f232598f6"
          ]
        },
        "id": "i4bTDDSa1nv3",
        "outputId": "3ddf4719-e96c-4fd1-b738-4390d428bc04"
      },
      "execution_count": 46,
      "outputs": [
        {
          "output_type": "display_data",
          "data": {
            "text/plain": [
              "  0%|          | 0/6400 [00:00<?, ?it/s]"
            ],
            "application/vnd.jupyter.widget-view+json": {
              "version_major": 2,
              "version_minor": 0,
              "model_id": "fb7f5a52baba4a6f9eedc5a3a3dce328"
            }
          },
          "metadata": {}
        },
        {
          "output_type": "display_data",
          "data": {
            "text/plain": [
              "<Figure size 640x480 with 1 Axes>"
            ],
            "image/png": "[encoded data removed]"
          },
          "metadata": {}
        }
      ]
    }
  ]
}